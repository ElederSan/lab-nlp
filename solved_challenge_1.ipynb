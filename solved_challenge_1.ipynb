{
  "cells": [
    {
      "cell_type": "markdown",
      "metadata": {
        "id": "view-in-github",
        "colab_type": "text"
      },
      "source": [
        "<a href=\"https://colab.research.google.com/github/ElederSan/lab-nlp/blob/master/solved_challenge_1.ipynb\" target=\"_parent\"><img src=\"https://colab.research.google.com/assets/colab-badge.svg\" alt=\"Open In Colab\"/></a>"
      ]
    },
    {
      "cell_type": "code",
      "source": [
        "import numpy as np\n",
        "import pandas as pd\n",
        "from bs4 import BeautifulSoup\n",
        "import matplotlib.pyplot as plt\n",
        "import seaborn as sns\n",
        "import re"
      ],
      "metadata": {
        "id": "KEmrIks0t6xw"
      },
      "execution_count": 5,
      "outputs": []
    },
    {
      "cell_type": "code",
      "source": [
        "import nltk\n",
        "nltk.download('punkt')\n",
        "nltk.download('stopwords')\n",
        "nltk.download('wordnet')\n",
        "nltk.download('tagsets')"
      ],
      "metadata": {
        "colab": {
          "base_uri": "https://localhost:8080/"
        },
        "id": "hYi9HR-nt7nH",
        "outputId": "eb85053c-1fe3-4f25-8014-ead7752d47b2"
      },
      "execution_count": 6,
      "outputs": [
        {
          "output_type": "stream",
          "name": "stderr",
          "text": [
            "[nltk_data] Downloading package punkt to /root/nltk_data...\n",
            "[nltk_data]   Unzipping tokenizers/punkt.zip.\n",
            "[nltk_data] Downloading package stopwords to /root/nltk_data...\n",
            "[nltk_data]   Unzipping corpora/stopwords.zip.\n",
            "[nltk_data] Downloading package wordnet to /root/nltk_data...\n",
            "[nltk_data] Downloading package tagsets to /root/nltk_data...\n",
            "[nltk_data]   Unzipping help/tagsets.zip.\n"
          ]
        },
        {
          "output_type": "execute_result",
          "data": {
            "text/plain": [
              "True"
            ]
          },
          "metadata": {},
          "execution_count": 6
        }
      ]
    },
    {
      "cell_type": "code",
      "source": [
        "from sklearn.model_selection import train_test_split"
      ],
      "metadata": {
        "id": "WSFIhZzauAaP"
      },
      "execution_count": 7,
      "outputs": []
    },
    {
      "cell_type": "markdown",
      "metadata": {
        "id": "l-KJ-f66ryGy"
      },
      "source": [
        "# Challenge 1: Prepare Textual Data for Analysis\n",
        "\n",
        "In this challenge, we will walk you through how to prepare raw text data for NLP analysis. Due to time limitation, we will cover **text cleaning, tokenization, stemming, lemmatization, and stop words removal** but skip POS tags, named entity recognition, and trunking. The latter 3 steps are more advanced and not required for our next challenge on sentiment analysis.\n",
        "\n",
        "## Objectives\n",
        "\n",
        "* Learn how to prepare text data for NLP analysis in Python\n",
        "* Write the functions you will use in Challenge 3 for cleaning, tokenizing, stemming, and lemmatizing data."
      ]
    },
    {
      "cell_type": "markdown",
      "metadata": {
        "id": "HHw6gBw2ryG1"
      },
      "source": [
        "## Text Cleaning\n",
        "\n",
        "Text cleaning is also called text cleansing. The goal is to clean up the messy real-world textual data in order to improve the text analysis accuracy at later steps. For generic textual data sources, we usually need to fix the following problems:\n",
        "\n",
        "* Missing values\n",
        "* Special characters\n",
        "* Numbers\n",
        "\n",
        "For web data, we need to additinally fix:\n",
        "\n",
        "* HTML tags\n",
        "* JavaScripts\n",
        "* CSS\n",
        "* URLs\n",
        "\n",
        "Case by case, there may also be special problems we need to fix for certain types of data. For instance, for Twitter tweets data we need to fix hashtags and the Twitter handler including a *@* sign and Twitter usernames.\n",
        "\n",
        "In addition, we also need to convert the texts to lower cases so that when we anaylize the words later, NLTK will not think *Ironhack* and *ironhack* mean different things.\n",
        "\n",
        "Note that the above are the general steps to clean up data for NLP analysis. In specific cases, not all those steps apply. For example, if you are analyzing textual data on history, you probably don't want to remove numbers because numbers (such as years and dates) are important in history. Besides, if you are doing something like network analysis on web data, you may want to retain hyperlinks so that you will be able to extract the outbounding links in the next steps. Sometimes you may also need to do some cleaning first, then extract some features, then do more cleaning, then extract more features. You'll have to make these judgments by yourself case by case.\n",
        "\n",
        "In this challenge we are keeping things relatively simple so **you only need to clean up special characters, numbers, and URLs**. Let's say you have the following messy string to clean up:\n",
        "\n",
        "```\n",
        "@Ironhack's-#Q website 776-is http://ironhack.com [(2018)]\")\n",
        "```\n",
        "\n",
        "You will write a function, which will be part of you NLP analysis pipeline in the next challenge, to clean up strings like above and output:\n",
        "\n",
        "```\n",
        "ironhack s  q website  is\n",
        "```\n",
        "\n",
        "**In the cell below, write a function called `clean_up`**. Test your function with the above string and make sure you receive the expected output.\n",
        "\n",
        "*Notes:*\n",
        "\n",
        "* Use regular expressions to identify URL patterns and remove URLs.\n",
        "\n",
        "* You don't want to replace special characters/numbers with an empty string. Because that will join words that shouldn't be joined. For instance, if you replace the `'` in `you're`, you will get `youre` which is undesirable. So instead, replace special characters and numbers with a whitespace.\n",
        "\n",
        "* The order matters in terms of what to clean before others. For example, if you clean special characters before URLs, it will be difficult to identify the URLs patterns.\n",
        "\n",
        "* Don't worry about single letters and multiple whitespaces in your returned string. In our next steps those issues will be fixed."
      ]
    },
    {
      "cell_type": "code",
      "execution_count": 21,
      "metadata": {
        "id": "po1W7tkhryG2"
      },
      "outputs": [],
      "source": [
        "def clean_up(s):\n",
        "    \"\"\"\n",
        "    Cleans up numbers, URLs, and special characters from a string.\n",
        "\n",
        "    Args:\n",
        "        s: The string to be cleaned up.\n",
        "\n",
        "    Returns:\n",
        "        A string that has been cleaned up.\n",
        "    \"\"\"\n",
        "    s = s.lower()\n",
        "    s = re.sub(r'(http|https|ftp|ssh)://([\\w_-]+(?:(?:\\.[\\w_-]+)+))([\\w.,@?^=%&:/~+#-]*[\\w@?^=%&/~+#-])?', ' ', s)\n",
        "    s= re.sub(r'\\d+',' ',s) # Replace one or more digits by  ' '\n",
        "    s = re.sub(r'\\W+',' ',s) # Replace everything non-alpahnumeric by ' '\n",
        "    s = BeautifulSoup(s, 'lxml').get_text().strip()\n",
        "\n",
        "    return s"
      ]
    },
    {
      "cell_type": "code",
      "source": [
        "clean_up(\"@Ironhack's-#Q website 776-is http://ironhack.com [(2018)]\")"
      ],
      "metadata": {
        "colab": {
          "base_uri": "https://localhost:8080/",
          "height": 36
        },
        "id": "Pbi_rWBDtltl",
        "outputId": "9935ee6c-54ad-48ee-e8b7-2ff9376ba716"
      },
      "execution_count": 22,
      "outputs": [
        {
          "output_type": "execute_result",
          "data": {
            "text/plain": [
              "'ironhack s q website is'"
            ],
            "application/vnd.google.colaboratory.intrinsic+json": {
              "type": "string"
            }
          },
          "metadata": {},
          "execution_count": 22
        }
      ]
    },
    {
      "cell_type": "markdown",
      "metadata": {
        "id": "_hDcUG7wryG3"
      },
      "source": [
        "## Tokenization\n",
        "\n",
        "We have actually discussed the concept of tokenization in the Bag of Words lab before. In that lab, we did both tokenization and calculated the [matrix of document-term frequency](https://en.wikipedia.org/wiki/Document-term_matrix). In this lab, we only need tokenization.\n",
        "\n",
        "In the cell below, write a function called **`tokenize`** to convert a string to a list of words. We'll use the string we received in the previous step *`ironhack s  q website  is`* to test your function. Your function shoud return:\n",
        "\n",
        "```python\n",
        "['ironhack', 's', 'q', 'website', 'is']\n",
        "```\n",
        "\n",
        "*Hint: use the `word_tokenize` function in NLTK.*"
      ]
    },
    {
      "cell_type": "code",
      "execution_count": 23,
      "metadata": {
        "id": "Oq2TkJAGryG4"
      },
      "outputs": [],
      "source": [
        "def tokenize(s):\n",
        "    \"\"\"\n",
        "    Tokenize a string.\n",
        "\n",
        "    Args:\n",
        "        s: String to be tokenized.\n",
        "\n",
        "    Returns:\n",
        "        A list of words as the result of tokenization.\n",
        "    \"\"\"\n",
        "    s= s.split()\n",
        "    return s"
      ]
    },
    {
      "cell_type": "code",
      "source": [
        "s= tokenize(\"ironhack s q website is\")"
      ],
      "metadata": {
        "id": "fxHrZC3uxpgU"
      },
      "execution_count": 25,
      "outputs": []
    },
    {
      "cell_type": "code",
      "source": [
        "s"
      ],
      "metadata": {
        "colab": {
          "base_uri": "https://localhost:8080/"
        },
        "id": "8P-bHt-40yRw",
        "outputId": "5dcfe96d-b6f7-4314-d7af-ce0a7b06e512"
      },
      "execution_count": 26,
      "outputs": [
        {
          "output_type": "execute_result",
          "data": {
            "text/plain": [
              "['ironhack', 's', 'q', 'website', 'is']"
            ]
          },
          "metadata": {},
          "execution_count": 26
        }
      ]
    },
    {
      "cell_type": "markdown",
      "metadata": {
        "id": "KUBNWhOqryG4"
      },
      "source": [
        "## Stemming and Lemmatization\n",
        "\n",
        "We will do stemming and lemmatization in the same step because otherwise we'll have to loop each token lists twice. You have learned in the previous challenge that stemming and lemmatization are similar but have different purposes for text normalization:\n",
        "\n",
        "**Stemming reduces words to their root forms (stems) even if the stem itself is not a valid word**. For instance, *token*, *tokenize*, and *tokenization* will be reduced to the same stem - *token*. And *change*, *changed*, *changing* will be reduced to *chang*.\n",
        "\n",
        "In NLTK, there are three stemming libraries: [*Porter*](https://www.nltk.org/_modules/nltk/stem/porter.html), [*Snowball*](https://www.nltk.org/_modules/nltk/stem/snowball.html), and [*Lancaster*](https://www.nltk.org/_modules/nltk/stem/lancaster.html). The difference among the three is the agressiveness with which they perform stemming. Porter is the most gentle stemmer that preserves the word's original form if it has doubts. In contrast, Lancaster is the most aggressive one that sometimes produces wrong outputs. And Snowball is in between. **In most cases you will use either Porter or Snowball**.\n",
        "\n",
        "**Lemmatization differs from stemming in that lemmatization cares about whether the reduced form belongs to the target language and it often requires the context (i.e. POS or parts-of-speech) in order to perform the correct transformation**. For example, the [*Word Net lemmatizer* in NLTK](https://www.nltk.org/_modules/nltk/stem/wordnet.html) yields different results with and without being told that *was* is a verb:\n",
        "\n",
        "```python\n",
        ">>> from nltk.stem import WordNetLemmatizer\n",
        ">>> lemmatizer = WordNetLemmatizer()\n",
        ">>> lemmatizer.lemmatize('was')\n",
        "'wa'\n",
        ">>> lemmatizer.lemmatize('runs', pos='v')\n",
        "'run'\n",
        "```\n",
        "\n",
        "In the cell below, import the necessary libraries and define a function called `stem_and_lemmatize` that performs both stemming and lemmatization on a list of words. Don't worry about the POS part of lemmatization for now."
      ]
    },
    {
      "cell_type": "code",
      "source": [
        "from nltk.stem.snowball import SnowballStemmer\n",
        "from nltk.stem import WordNetLemmatizer\n",
        "from nltk.corpus import words\n",
        "import nltk\n",
        "nltk.download('words')\n",
        "\n",
        "def stem_and_lemmatize(l):\n",
        "\n",
        "    \"\"\"\n",
        "    Perform stemming and lemmatization on a list of words.\n",
        "\n",
        "    Args:\n",
        "        l: A list of strings.\n",
        "\n",
        "    Returns:\n",
        "        A list of strings after being stemmed and lemmatized.\n",
        "    \"\"\"\n",
        "    snow_stemmer = SnowballStemmer(language='english')\n",
        "\n",
        "    stemed_list = []\n",
        "\n",
        "    for word in l:\n",
        "        stemmed_word = snow_stemmer.stem(word)\n",
        "        if stemmed_word in words.words():\n",
        "          stemed_list.append(stemmed_word)\n",
        "        else:\n",
        "          stemed_list.append(word)\n",
        "\n",
        "    lem = WordNetLemmatizer()\n",
        "\n",
        "    stem_lemm_list = []\n",
        "\n",
        "    for word in stemed_list:\n",
        "      stem_lemm_list.append(lem.lemmatize(word))\n",
        "\n",
        "    return stem_lemm_list"
      ],
      "metadata": {
        "colab": {
          "base_uri": "https://localhost:8080/"
        },
        "id": "hwUSBcue_Pxg",
        "outputId": "d78ef01a-4b36-43d7-ecc4-8244ff503b34"
      },
      "execution_count": 53,
      "outputs": [
        {
          "output_type": "stream",
          "name": "stderr",
          "text": [
            "[nltk_data] Downloading package words to /root/nltk_data...\n",
            "[nltk_data]   Unzipping corpora/words.zip.\n"
          ]
        }
      ]
    },
    {
      "cell_type": "code",
      "source": [
        "stem_lemm_list = stem_and_lemmatize(s)"
      ],
      "metadata": {
        "id": "vlPLZjoq3l2q"
      },
      "execution_count": 54,
      "outputs": []
    },
    {
      "cell_type": "code",
      "source": [
        "stem_lemm_list"
      ],
      "metadata": {
        "colab": {
          "base_uri": "https://localhost:8080/"
        },
        "id": "0HNiKN3d3zjf",
        "outputId": "98312843-0823-422f-e56e-c42f51275c78"
      },
      "execution_count": 55,
      "outputs": [
        {
          "output_type": "execute_result",
          "data": {
            "text/plain": [
              "['ironhack', 's', 'q', 'website', 'is']"
            ]
          },
          "metadata": {},
          "execution_count": 55
        }
      ]
    },
    {
      "cell_type": "code",
      "source": [],
      "metadata": {
        "id": "cbqTpv72yoYA"
      },
      "execution_count": null,
      "outputs": []
    },
    {
      "cell_type": "markdown",
      "metadata": {
        "id": "Y1wEQ8sBryG5"
      },
      "source": [
        "## Stop Words Removal\n",
        "\n",
        "Stop Words are the most commonly used words in a language that don't contribute to the main meaning of the texts. Examples of English stop words are `i`, `me`, `is`, `and`, `the`, `but`, and `here`. We want to remove stop words from analysis because otherwise stop words will take the overwhelming portion in our tokenized word list and the NLP algorithms will have problems in identifying the truely important words.\n",
        "\n",
        "NLTK has a `stopwords` package that allows us to import the most common stop words in over a dozen langauges including English, Spanish, French, German, Dutch, Portuguese, Italian, etc. These are the bare minimum stop words (100-150 words in each language) that can get beginners started. Some other NLP packages such as [*stop-words*](https://pypi.org/project/stop-words/) and [*wordcloud*](https://amueller.github.io/word_cloud/generated/wordcloud.WordCloud.html) provide bigger lists of stop words.\n",
        "\n",
        "Now in the cell below, create a function called `remove_stopwords` that loop through a list of words that have been stemmed and lemmatized to check and remove stop words. Return a new list where stop words have been removed."
      ]
    },
    {
      "cell_type": "code",
      "source": [
        "pip install stop-words"
      ],
      "metadata": {
        "colab": {
          "base_uri": "https://localhost:8080/"
        },
        "id": "2pOsqGXq7gCo",
        "outputId": "bd0361c8-3dd3-486f-d96b-d691e0b664eb"
      },
      "execution_count": 43,
      "outputs": [
        {
          "output_type": "stream",
          "name": "stdout",
          "text": [
            "Collecting stop-words\n",
            "  Downloading stop-words-2018.7.23.tar.gz (31 kB)\n",
            "  Preparing metadata (setup.py) ... \u001b[?25l\u001b[?25hdone\n",
            "Building wheels for collected packages: stop-words\n",
            "  Building wheel for stop-words (setup.py) ... \u001b[?25l\u001b[?25hdone\n",
            "  Created wheel for stop-words: filename=stop_words-2018.7.23-py3-none-any.whl size=32895 sha256=c8bb1547446889a838b0b51b57cc810130794920efaf9014b8b076fd7098c6b7\n",
            "  Stored in directory: /root/.cache/pip/wheels/d0/1a/23/f12552a50cb09bcc1694a5ebb6c2cd5f2a0311de2b8c3d9a89\n",
            "Successfully built stop-words\n",
            "Installing collected packages: stop-words\n",
            "Successfully installed stop-words-2018.7.23\n"
          ]
        }
      ]
    },
    {
      "cell_type": "code",
      "source": [
        "from stop_words import get_stop_words\n",
        "\n",
        "stop_words = get_stop_words('en')\n",
        "\n",
        "stop_words_clean = []\n",
        "\n",
        "for i in range(len(stop_words)):\n",
        "    stop_words[i] = re.sub(r\"\\s*'\\s*\\w*\",\"\",stop_words[i])\n",
        "    stop_words_clean.append(stop_words[i])\n",
        "stop_words_clean = [word for word in list(np.unique(stop_words_clean)) if len(word) > 1]\n",
        "stop_words_clean"
      ],
      "metadata": {
        "colab": {
          "base_uri": "https://localhost:8080/"
        },
        "id": "61XBshS55pWN",
        "outputId": "788d0cb3-e47a-48ec-e714-db7d028805f8"
      },
      "execution_count": 46,
      "outputs": [
        {
          "output_type": "execute_result",
          "data": {
            "text/plain": [
              "['about',\n",
              " 'above',\n",
              " 'after',\n",
              " 'again',\n",
              " 'against',\n",
              " 'all',\n",
              " 'am',\n",
              " 'an',\n",
              " 'and',\n",
              " 'any',\n",
              " 'are',\n",
              " 'aren',\n",
              " 'as',\n",
              " 'at',\n",
              " 'be',\n",
              " 'because',\n",
              " 'been',\n",
              " 'before',\n",
              " 'being',\n",
              " 'below',\n",
              " 'between',\n",
              " 'both',\n",
              " 'but',\n",
              " 'by',\n",
              " 'can',\n",
              " 'cannot',\n",
              " 'could',\n",
              " 'couldn',\n",
              " 'did',\n",
              " 'didn',\n",
              " 'do',\n",
              " 'does',\n",
              " 'doesn',\n",
              " 'doing',\n",
              " 'don',\n",
              " 'down',\n",
              " 'during',\n",
              " 'each',\n",
              " 'few',\n",
              " 'for',\n",
              " 'from',\n",
              " 'further',\n",
              " 'had',\n",
              " 'hadn',\n",
              " 'has',\n",
              " 'hasn',\n",
              " 'have',\n",
              " 'haven',\n",
              " 'having',\n",
              " 'he',\n",
              " 'her',\n",
              " 'here',\n",
              " 'hers',\n",
              " 'herself',\n",
              " 'him',\n",
              " 'himself',\n",
              " 'his',\n",
              " 'how',\n",
              " 'if',\n",
              " 'in',\n",
              " 'into',\n",
              " 'is',\n",
              " 'isn',\n",
              " 'it',\n",
              " 'its',\n",
              " 'itself',\n",
              " 'let',\n",
              " 'me',\n",
              " 'more',\n",
              " 'most',\n",
              " 'mustn',\n",
              " 'my',\n",
              " 'myself',\n",
              " 'no',\n",
              " 'nor',\n",
              " 'not',\n",
              " 'of',\n",
              " 'off',\n",
              " 'on',\n",
              " 'once',\n",
              " 'only',\n",
              " 'or',\n",
              " 'other',\n",
              " 'ought',\n",
              " 'our',\n",
              " 'ours',\n",
              " 'ourselves',\n",
              " 'out',\n",
              " 'over',\n",
              " 'own',\n",
              " 'same',\n",
              " 'shan',\n",
              " 'she',\n",
              " 'should',\n",
              " 'shouldn',\n",
              " 'so',\n",
              " 'some',\n",
              " 'such',\n",
              " 'than',\n",
              " 'that',\n",
              " 'the',\n",
              " 'their',\n",
              " 'theirs',\n",
              " 'them',\n",
              " 'themselves',\n",
              " 'then',\n",
              " 'there',\n",
              " 'these',\n",
              " 'they',\n",
              " 'this',\n",
              " 'those',\n",
              " 'through',\n",
              " 'to',\n",
              " 'too',\n",
              " 'under',\n",
              " 'until',\n",
              " 'up',\n",
              " 'very',\n",
              " 'was',\n",
              " 'wasn',\n",
              " 'we',\n",
              " 'were',\n",
              " 'weren',\n",
              " 'what',\n",
              " 'when',\n",
              " 'where',\n",
              " 'which',\n",
              " 'while',\n",
              " 'who',\n",
              " 'whom',\n",
              " 'why',\n",
              " 'with',\n",
              " 'won',\n",
              " 'would',\n",
              " 'wouldn',\n",
              " 'you',\n",
              " 'your',\n",
              " 'yours',\n",
              " 'yourself',\n",
              " 'yourselves']"
            ]
          },
          "metadata": {},
          "execution_count": 46
        }
      ]
    },
    {
      "cell_type": "code",
      "execution_count": 59,
      "metadata": {
        "id": "qRiVh3BpryG5"
      },
      "outputs": [],
      "source": [
        "from nltk.corpus import stopwords\n",
        "\n",
        "def remove_stopwords(l):\n",
        "    \"\"\"\n",
        "    Remove English stopwords from a list of strings.\n",
        "\n",
        "    Args:\n",
        "        l: A list of strings.\n",
        "\n",
        "    Returns:\n",
        "        A list of strings after stop words are removed.\n",
        "    \"\"\"\n",
        "    stop_words = get_stop_words('en')\n",
        "\n",
        "    stop_words_clean = []\n",
        "\n",
        "    for i in range(len(stop_words)):\n",
        "      stop_words[i] = re.sub(r\"\\s*'\\s*\\w*\",\"\",stop_words[i])\n",
        "      stop_words_clean.append(stop_words[i])\n",
        "    stop_words_clean = [word for word in list(np.unique(stop_words_clean)) if len(word) > 1]\n",
        "    stop_words_clean\n",
        "\n",
        "    list_wo_stop = []\n",
        "\n",
        "    for word in l:\n",
        "      if word not in stop_words_clean:\n",
        "        list_wo_stop.append(word)\n",
        "      else:\n",
        "        pass\n",
        "    return list_wo_stop\n"
      ]
    },
    {
      "cell_type": "code",
      "source": [
        "list_no_stop = remove_stopwords(stem_lemm_list)"
      ],
      "metadata": {
        "id": "s9bQo4q-9dNZ"
      },
      "execution_count": 60,
      "outputs": []
    },
    {
      "cell_type": "code",
      "source": [
        "list_no_stop"
      ],
      "metadata": {
        "colab": {
          "base_uri": "https://localhost:8080/"
        },
        "id": "mML-GBME9mOc",
        "outputId": "3878897a-4d6a-422b-ea6f-df72e9187a99"
      },
      "execution_count": 61,
      "outputs": [
        {
          "output_type": "execute_result",
          "data": {
            "text/plain": [
              "['ironhack', 's', 'q', 'website']"
            ]
          },
          "metadata": {},
          "execution_count": 61
        }
      ]
    },
    {
      "cell_type": "markdown",
      "metadata": {
        "id": "4hgQQoIXryG5"
      },
      "source": [
        "## Summary\n",
        "\n",
        "In this challenge you have learned several text preparation techniques in more depths including text cleaning, tokenization, stemming, lemmatization, and stopwords removal. You have also written the functions you will be using in the next challenge to prepare texts for NLP analysis. Now we are ready to move on to the next challenge - Sentiment Analysis."
      ]
    }
  ],
  "metadata": {
    "kernelspec": {
      "display_name": "Python 3 (ipykernel)",
      "language": "python",
      "name": "python3"
    },
    "language_info": {
      "codemirror_mode": {
        "name": "ipython",
        "version": 3
      },
      "file_extension": ".py",
      "mimetype": "text/x-python",
      "name": "python",
      "nbconvert_exporter": "python",
      "pygments_lexer": "ipython3",
      "version": "3.9.13"
    },
    "colab": {
      "provenance": [],
      "include_colab_link": true
    }
  },
  "nbformat": 4,
  "nbformat_minor": 0
}